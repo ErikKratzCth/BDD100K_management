{
 "cells": [
  {
   "cell_type": "code",
   "execution_count": 2,
   "metadata": {},
   "outputs": [
    {
     "name": "stdout",
     "output_type": "stream",
     "text": [
      "Loaded json data (33.31s)\n",
      "Parsing json data ...\n",
      "\tNot enough files with specified attributes (weather: clear/partly cloudy/overcast/, scene: highway, timeofday: daytime, )\n",
      "\t\tRequested: 13000\n",
      "\t\tFound: 8039\n",
      "Image sets downsized by factor 0.62\n",
      "Normal file list complete (0.15s)\n",
      "\tNot enough files with specified attributes (scene: highway, weather: rainy/snowy/foggy/, timeofday: daytime/dawn/dusk/night/, )\n",
      "\t\tRequested: 3092\n",
      "\t\tFound: 2134\n",
      "Image sets downsized by factor 0.69\n",
      "Outlier file list complete (0.09s)\n",
      "Generated train_list (0.00s)\n",
      "Generated val_list (0.00s)\n",
      "Generated test_list (0.00s)\n"
     ]
    }
   ],
   "source": [
    "from pathlib import Path\n",
    "from loadbdd100k import load_bdd100k_attribute_spec\n",
    "\n",
    "\n",
    "# Insert paths of data directory and label json-file\n",
    "data_main_folder = Path('C:/Users/erikk/Dataset exjobb/BDD100K')\n",
    "img_folder = data_main_folder / \"bdd100k_images/bdd100k/images/100k/train_and_val\"\n",
    "labels_folder = data_main_folder / \"bdd100k_labels_release/bdd100k/labels\"\n",
    "labels_file = labels_folder / \"bdd100k_labels_images_train_and_val.json\"\n",
    "\n",
    "attributes_normal = [[\"weather\", [\"clear\",\"partly cloudy\", \"overcast\"]],[\"scene\", \"highway\"],[\"timeofday\", \"daytime\"]]\n",
    "attributes_outlier = [[\"scene\", \"highway\"],[\"weather\", [\"rainy\", \"snowy\", \"foggy\"]],[\"timeofday\",[\"daytime\",\"dawn/dusk\",\"night\"]]]\n",
    "\n",
    "num_train = 7000\n",
    "num_val = 1000\n",
    "num_test = 10000\n",
    "outlier_frac = 0.5\n",
    "\n",
    "output_type = 'file_lists'\n",
    "\n",
    "train_data, val_data, test_data = load_bdd100k_attribute_spec(img_folder, labels_file, attributes_normal, attributes_outlier, num_train, num_val, num_test, outlier_frac, output_type)"
   ]
  },
  {
   "cell_type": "code",
   "execution_count": 3,
   "metadata": {},
   "outputs": [
    {
     "name": "stdout",
     "output_type": "stream",
     "text": [
      "2988\n",
      "428\n",
      "6757\n"
     ]
    }
   ],
   "source": [
    "print(len(train_data))\n",
    "print(len(val_data))\n",
    "print(len(test_data))"
   ]
  },
  {
   "cell_type": "code",
   "execution_count": null,
   "metadata": {},
   "outputs": [],
   "source": []
  }
 ],
 "metadata": {
  "kernelspec": {
   "display_name": "Python 3",
   "language": "python",
   "name": "python3"
  },
  "language_info": {
   "codemirror_mode": {
    "name": "ipython",
    "version": 3
   },
   "file_extension": ".py",
   "mimetype": "text/x-python",
   "name": "python",
   "nbconvert_exporter": "python",
   "pygments_lexer": "ipython3",
   "version": "3.6.3"
  }
 },
 "nbformat": 4,
 "nbformat_minor": 2
}
