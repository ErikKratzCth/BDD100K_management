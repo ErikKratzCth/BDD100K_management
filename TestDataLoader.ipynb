{
 "cells": [
  {
   "cell_type": "code",
   "execution_count": 4,
   "metadata": {},
   "outputs": [],
   "source": [
    "from pathlib import Path\n",
    "\n",
    "# Insert paths of data directory and json-file with labels\n",
    "data_main_folder = Path('C:/Users/erikk/Dataset exjobb/BDD100K')\n",
    "img_folder = data_main_folder / \"bdd100k_images/bdd100k/images/100k/train_and_val_192by320\"\n",
    "labels_folder = data_main_folder / \"bdd100k_labels_release/bdd100k/labels\"\n",
    "labels_file = labels_folder / \"bdd100k_labels_images_train_and_val.json\"\n",
    "\n",
    "# Specify attributes as [[attribute type 1, attribute 1 key], [attribute type 2, [attribute 2 key 1, attribute 2 key 2]], etc]\n",
    "attributes_normal = [[\"weather\", [\"clear\",\"partly cloudy\", \"overcast\"]],[\"scene\", \"highway\"],[\"timeofday\", \"daytime\"]]\n",
    "attributes_outlier = [[\"weather\", [\"rainy\", \"snowy\", \"foggy\"]],[\"scene\", \"highway\"],[\"timeofday\",[\"daytime\",\"dawn/dusk\",\"night\"]]]\n",
    "\n",
    "image_height = 192\n",
    "image_width = 320\n",
    "channels = 3\n",
    "\n",
    "num_train = 7000\n",
    "num_val = 1000\n",
    "num_test = 2000\n",
    "outlier_frac = 0.5"
   ]
  },
  {
   "cell_type": "code",
   "execution_count": null,
   "metadata": {},
   "outputs": [],
   "source": [
    "# Choose images from json-file\n",
    "from loadbdd100k import load_bdd100k_data_attribute_spec\n",
    "norm_data, out_data = load_bdd100k_data_attribute_spec(img_folder, attributes_normal, attributes_outlier, num_train, num_val, num_test, outlier_frac, image_height, image_width, channels, save_name_lists=True, labels_file = labels_file, get_norm_and_out_sets = True, shuffle=False)"
   ]
  },
  {
   "cell_type": "code",
   "execution_count": 5,
   "metadata": {},
   "outputs": [
    {
     "name": "stdout",
     "output_type": "stream",
     "text": [
      "Not enough files in specified NORMAL class.\n",
      "\tRequested: 9000\n",
      "\tFound: 8039\n",
      "Train, val and test sets downsized by factor 0.89\n",
      "Loading NORMAL image data...\n",
      "NORMAL image data loaded (31.55s)\n",
      "Loading OUTLIER image data...\n",
      "OUTLIER image data loaded (3.38s)\n",
      "Generated train_data (0.00s)\n",
      "Generated val_data (0.00s)\n",
      "Generated test_data (0.26s)\n",
      "Generated test_labels (0.00s)\n"
     ]
    }
   ],
   "source": [
    "# Choose images from filename lists\n",
    "from loadbdd100k import load_bdd100k_data_filename_list\n",
    "\n",
    "norm_file = 'clear_or_partly_cloudy_or_overcast_and_highway_and_daytime.txt'\n",
    "out_file = 'rainy_or_snowy_or_foggy_and_highway_and_daytime_or_dawndusk_or_night.txt'\n",
    "norm_filenames = [line.rstrip('\\n') for line in open(norm_file,'r')]\n",
    "out_filenames = [line.rstrip('\\n') for line in open(out_file,'r')]  \n",
    "    \n",
    "    \n",
    "train_data, val_data, test_data, test_labels = load_bdd100k_data_filename_list(img_folder, norm_filenames, out_filenames, num_train, num_val, num_test, outlier_frac, image_height, image_width, channels, get_norm_and_out_sets = False, shuffle=False)"
   ]
  }
 ],
 "metadata": {
  "kernelspec": {
   "display_name": "Python 3",
   "language": "python",
   "name": "python3"
  },
  "language_info": {
   "codemirror_mode": {
    "name": "ipython",
    "version": 3
   },
   "file_extension": ".py",
   "mimetype": "text/x-python",
   "name": "python",
   "nbconvert_exporter": "python",
   "pygments_lexer": "ipython3",
   "version": "3.6.3"
  }
 },
 "nbformat": 4,
 "nbformat_minor": 2
}
