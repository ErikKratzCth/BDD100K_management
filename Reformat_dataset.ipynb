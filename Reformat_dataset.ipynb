{
 "cells": [
  {
   "cell_type": "code",
   "execution_count": 8,
   "metadata": {},
   "outputs": [],
   "source": [
    "from pathlib import Path\n",
    "from LoadBDD100K import load_bdd100k_attribute_spec\n",
    "import json\n",
    "import os.path\n",
    "\n",
    "data_main_folder = Path('C:/Users/erikk/Dataset exjobb/BDD100K')\n",
    "img_folder = data_main_folder / \"bdd100k_images/bdd100k/images/100k/train_and_val_resized\"\n",
    "labels_folder = data_main_folder / \"bdd100k_labels_release/bdd100k/labels\"\n",
    "labels_file = labels_folder / \"bdd100k_labels_images_train_and_val.json\"\n",
    "\n",
    "\n",
    "new_width = 320\n",
    "new_height = 180"
   ]
  },
  {
   "cell_type": "code",
   "execution_count": null,
   "metadata": {},
   "outputs": [],
   "source": [
    "# Concatenate json-files: train and val ---> merged file\n",
    "# ALREADY DONE, DONT RUN\n",
    "'''new_labels_file = labels_folder / \"bdd100k_labels_images_val_and_train.json\"\n",
    "\n",
    "with open(labels_file_1) as json_data:\n",
    "    json_data_1 = json.load(json_data)\n",
    "print(\"Data 1 loaded\")\n",
    "    \n",
    "with open(labels_file_2) as json_data:\n",
    "    json_data_2 = json.load(json_data)\n",
    "print(\"Data 2 loaded\")\n",
    "\n",
    "concat_json_data = json_data_1 + json_data_2\n",
    "print(\"Data merged\")\n",
    "\n",
    "with open(new_labels_file, 'w') as out_file:\n",
    "    json.dump(concat_json_data,out_file,indent=2)\n",
    "print(\"New file saved\")'''"
   ]
  },
  {
   "cell_type": "code",
   "execution_count": 1,
   "metadata": {},
   "outputs": [
    {
     "name": "stderr",
     "output_type": "stream",
     "text": [
      "C:\\ProgramData\\Anaconda3\\lib\\site-packages\\skimage\\transform\\_warps.py:105: UserWarning: The default mode, 'constant', will be changed to 'reflect' in skimage 0.15.\n",
      "  warn(\"The default mode, 'constant', will be changed to 'reflect' in \"\n",
      "C:\\ProgramData\\Anaconda3\\lib\\site-packages\\skimage\\util\\dtype.py:130: UserWarning: Possible precision loss when converting from float64 to uint8\n",
      "  .format(dtypeobj_in, dtypeobj_out))\n"
     ]
    },
    {
     "name": "stdout",
     "output_type": "stream",
     "text": [
      "Resized 61336 of 18785 images (326%)\n",
      "Resized 61523 of 18785 images (327%)\n",
      "Resized 61710 of 18785 images (328%)\n",
      "Resized 61897 of 18785 images (329%)\n",
      "Resized 62084 of 18785 images (330%)\n",
      "Resized 62271 of 18785 images (331%)\n",
      "Resized 62458 of 18785 images (332%)\n",
      "Resized 62645 of 18785 images (333%)\n",
      "Resized 62832 of 18785 images (334%)\n",
      "Resized 63019 of 18785 images (335%)\n",
      "Resized 63206 of 18785 images (336%)\n"
     ]
    },
    {
     "name": "stderr",
     "output_type": "stream",
     "text": [
      "C:\\ProgramData\\Anaconda3\\lib\\site-packages\\skimage\\io\\_io.py:140: UserWarning: C:\\Users\\erikk\\Dataset exjobb\\BDD100K\\bdd100k_images\\bdd100k\\images\\100k\\train_and_val_192by320\\a1da107d-54efaca3.jpg is a low contrast image\n",
      "  warn('%s is a low contrast image' % fname)\n"
     ]
    },
    {
     "name": "stdout",
     "output_type": "stream",
     "text": [
      "Resized 63393 of 18785 images (337%)\n",
      "Resized 63580 of 18785 images (338%)\n",
      "Resized 63767 of 18785 images (339%)\n",
      "Resized 63954 of 18785 images (340%)\n",
      "Resized 64141 of 18785 images (341%)\n",
      "Resized 64328 of 18785 images (342%)\n",
      "Resized 64515 of 18785 images (343%)\n",
      "Resized 64702 of 18785 images (344%)\n",
      "Resized 64889 of 18785 images (345%)\n",
      "Resized 65076 of 18785 images (346%)\n",
      "Resized 65263 of 18785 images (347%)\n",
      "Resized 65450 of 18785 images (348%)\n",
      "Resized 65637 of 18785 images (349%)\n",
      "Resized 65824 of 18785 images (350%)\n",
      "Resized 66011 of 18785 images (351%)\n",
      "Resized 66198 of 18785 images (352%)\n",
      "Resized 66385 of 18785 images (353%)\n",
      "Resized 66572 of 18785 images (354%)\n",
      "Resized 66759 of 18785 images (355%)\n"
     ]
    },
    {
     "name": "stderr",
     "output_type": "stream",
     "text": [
      "C:\\ProgramData\\Anaconda3\\lib\\site-packages\\skimage\\io\\_io.py:140: UserWarning: C:\\Users\\erikk\\Dataset exjobb\\BDD100K\\bdd100k_images\\bdd100k\\images\\100k\\train_and_val_192by320\\aa6cef25-1afd9669.jpg is a low contrast image\n",
      "  warn('%s is a low contrast image' % fname)\n"
     ]
    },
    {
     "name": "stdout",
     "output_type": "stream",
     "text": [
      "Resized 66946 of 18785 images (356%)\n",
      "Resized 67133 of 18785 images (357%)\n",
      "Resized 67320 of 18785 images (358%)\n",
      "Resized 67507 of 18785 images (359%)\n",
      "Resized 67694 of 18785 images (360%)\n",
      "Resized 67881 of 18785 images (361%)\n",
      "Resized 68068 of 18785 images (362%)\n",
      "Resized 68255 of 18785 images (363%)\n"
     ]
    },
    {
     "name": "stderr",
     "output_type": "stream",
     "text": [
      "C:\\ProgramData\\Anaconda3\\lib\\site-packages\\skimage\\io\\_io.py:140: UserWarning: C:\\Users\\erikk\\Dataset exjobb\\BDD100K\\bdd100k_images\\bdd100k\\images\\100k\\train_and_val_192by320\\ae08e429-f84de4e7.jpg is a low contrast image\n",
      "  warn('%s is a low contrast image' % fname)\n"
     ]
    },
    {
     "name": "stdout",
     "output_type": "stream",
     "text": [
      "Resized 68442 of 18785 images (364%)\n"
     ]
    },
    {
     "name": "stderr",
     "output_type": "stream",
     "text": [
      "C:\\ProgramData\\Anaconda3\\lib\\site-packages\\skimage\\io\\_io.py:140: UserWarning: C:\\Users\\erikk\\Dataset exjobb\\BDD100K\\bdd100k_images\\bdd100k\\images\\100k\\train_and_val_192by320\\ae66fe02-0f4dfea6.jpg is a low contrast image\n",
      "  warn('%s is a low contrast image' % fname)\n"
     ]
    },
    {
     "name": "stdout",
     "output_type": "stream",
     "text": [
      "Resized 68629 of 18785 images (365%)\n",
      "Resized 68816 of 18785 images (366%)\n",
      "Resized 69003 of 18785 images (367%)\n"
     ]
    },
    {
     "name": "stderr",
     "output_type": "stream",
     "text": [
      "C:\\ProgramData\\Anaconda3\\lib\\site-packages\\skimage\\io\\_io.py:140: UserWarning: C:\\Users\\erikk\\Dataset exjobb\\BDD100K\\bdd100k_images\\bdd100k\\images\\100k\\train_and_val_192by320\\afa7cd59-f4a0f460.jpg is a low contrast image\n",
      "  warn('%s is a low contrast image' % fname)\n"
     ]
    },
    {
     "name": "stdout",
     "output_type": "stream",
     "text": [
      "Resized 69190 of 18785 images (368%)\n"
     ]
    },
    {
     "name": "stderr",
     "output_type": "stream",
     "text": [
      "C:\\ProgramData\\Anaconda3\\lib\\site-packages\\skimage\\io\\_io.py:140: UserWarning: C:\\Users\\erikk\\Dataset exjobb\\BDD100K\\bdd100k_images\\bdd100k\\images\\100k\\train_and_val_192by320\\b00da6a5-3d774eb4.jpg is a low contrast image\n",
      "  warn('%s is a low contrast image' % fname)\n"
     ]
    },
    {
     "name": "stdout",
     "output_type": "stream",
     "text": [
      "Resized 69377 of 18785 images (369%)\n",
      "Resized 69564 of 18785 images (370%)\n",
      "Resized 69751 of 18785 images (371%)\n",
      "Resized 69938 of 18785 images (372%)\n",
      "Resized 70125 of 18785 images (373%)\n",
      "Resized 70312 of 18785 images (374%)\n",
      "Resized 70499 of 18785 images (375%)\n",
      "Resized 70686 of 18785 images (376%)\n",
      "Resized 70873 of 18785 images (377%)\n",
      "Resized 71060 of 18785 images (378%)\n",
      "Resized 71247 of 18785 images (379%)\n",
      "Resized 71434 of 18785 images (380%)\n",
      "Resized 71621 of 18785 images (381%)\n",
      "Resized 71808 of 18785 images (382%)\n",
      "Resized 71995 of 18785 images (383%)\n",
      "Resized 72182 of 18785 images (384%)\n",
      "Resized 72369 of 18785 images (385%)\n",
      "Resized 72556 of 18785 images (386%)\n",
      "Resized 72743 of 18785 images (387%)\n",
      "Resized 72930 of 18785 images (388%)\n",
      "Resized 73117 of 18785 images (389%)\n",
      "Resized 73304 of 18785 images (390%)\n",
      "Resized 73491 of 18785 images (391%)\n",
      "Resized 73678 of 18785 images (392%)\n",
      "Resized 73865 of 18785 images (393%)\n",
      "Resized 74052 of 18785 images (394%)\n",
      "Resized 74239 of 18785 images (395%)\n",
      "Resized 74426 of 18785 images (396%)\n",
      "Resized 74613 of 18785 images (397%)\n",
      "Resized 74800 of 18785 images (398%)\n",
      "Resized 74987 of 18785 images (399%)\n",
      "Resized 75174 of 18785 images (400%)\n",
      "Resized 75361 of 18785 images (401%)\n",
      "Resized 75548 of 18785 images (402%)\n",
      "Resized 75735 of 18785 images (403%)\n",
      "Resized 75922 of 18785 images (404%)\n",
      "Resized 76109 of 18785 images (405%)\n",
      "Resized 76296 of 18785 images (406%)\n",
      "Resized 76483 of 18785 images (407%)\n",
      "Resized 76670 of 18785 images (408%)\n",
      "Resized 76857 of 18785 images (409%)\n",
      "Resized 77044 of 18785 images (410%)\n",
      "Resized 77231 of 18785 images (411%)\n",
      "Resized 77418 of 18785 images (412%)\n",
      "Resized 77605 of 18785 images (413%)\n",
      "Resized 77792 of 18785 images (414%)\n",
      "Resized 77979 of 18785 images (415%)\n",
      "Resized 78166 of 18785 images (416%)\n",
      "Resized 78353 of 18785 images (417%)\n",
      "Resized 78540 of 18785 images (418%)\n"
     ]
    },
    {
     "name": "stderr",
     "output_type": "stream",
     "text": [
      "C:\\ProgramData\\Anaconda3\\lib\\site-packages\\skimage\\io\\_io.py:140: UserWarning: C:\\Users\\erikk\\Dataset exjobb\\BDD100K\\bdd100k_images\\bdd100k\\images\\100k\\train_and_val_192by320\\c7346130-9d225646.jpg is a low contrast image\n",
      "  warn('%s is a low contrast image' % fname)\n"
     ]
    },
    {
     "name": "stdout",
     "output_type": "stream",
     "text": [
      "Resized 78727 of 18785 images (419%)\n",
      "Resized 78914 of 18785 images (420%)\n",
      "Resized 79101 of 18785 images (421%)\n",
      "Resized 79288 of 18785 images (422%)\n",
      "Resized 79475 of 18785 images (423%)\n",
      "Resized 79662 of 18785 images (424%)\n",
      "Resized 79849 of 18785 images (425%)\n"
     ]
    }
   ],
   "source": [
    "# Rescale images to 320by180\n",
    "# ALREADY DONE\n",
    "from pathlib import Path\n",
    "import os\n",
    "from skimage.transform import rescale, resize, downscale_local_mean\n",
    "from skimage.io import imread, imsave\n",
    "\n",
    "data_main_folder = Path('C:/Users/erikk/Dataset exjobb/BDD100K')\n",
    "img_folder = data_main_folder / \"bdd100k_images/bdd100k/images/100k/train_and_val\"\n",
    "resized_img_folder = data_main_folder / \"bdd100k_images/bdd100k/images/100k/train_and_val_192by320\"\n",
    "\n",
    "new_height = 192\n",
    "new_width = 320\n",
    "\n",
    "all_images = os.listdir(img_folder)\n",
    "already_resized = os.listdir(resized_img_folder)\n",
    "num_to_resize = len(all_images)-len(already_resized)\n",
    "for idx, img_name in enumerate(all_images):\n",
    "    if img_name not in already_resized:\n",
    "        img = imread(img_folder / img_name)\n",
    "        resized_img = resize(img, (new_height,new_width),anti_aliasing = True)\n",
    "        imsave(resized_img_folder / img_name, resized_img)\n",
    "        if (idx+1) % (num_to_resize//100) == 0: # print every 1%\n",
    "            print(\"Resized %d of %d images (%d%%)\"%(idx+1,num_to_resize,100*(idx+1)/num_to_resize))"
   ]
  }
 ],
 "metadata": {
  "kernelspec": {
   "display_name": "Python 3",
   "language": "python",
   "name": "python3"
  },
  "language_info": {
   "codemirror_mode": {
    "name": "ipython",
    "version": 3
   },
   "file_extension": ".py",
   "mimetype": "text/x-python",
   "name": "python",
   "nbconvert_exporter": "python",
   "pygments_lexer": "ipython3",
   "version": "3.6.3"
  }
 },
 "nbformat": 4,
 "nbformat_minor": 2
}
