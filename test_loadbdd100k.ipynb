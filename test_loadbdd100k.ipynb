{
 "cells": [
  {
   "cell_type": "code",
   "execution_count": 1,
   "metadata": {},
   "outputs": [],
   "source": [
    "from pathlib import Path\n",
    "\n",
    "# Insert paths of data directory and json-file with labels\n",
    "\n",
    "#data_main_folder = Path('C:/Users/erikk/Dataset exjobb/BDD100K')\n",
    "data_main_folder = Path('/home/erik/dataset/bdd100k')\n",
    "img_folder = data_main_folder / \"images/train_and_val_192by320\"\n",
    "labels_folder = data_main_folder / \"labels\"\n",
    "labels_file = labels_folder / \"bdd100k_labels_images_train_and_val.json\"\n",
    "\n",
    "# Specify attributes as [[attribute type 1, attribute 1 key], [attribute type 2, [attribute 2 key 1, attribute 2 key 2]], etc]\n",
    "# \n",
    "# Available attributes and keys are:\n",
    "# weather: clear, partly cloudy, overcast, rainy, snowy, foggy, undefined\n",
    "# scene: highway, residential, gas stations, parking lot, tunnel, city street, undefined\n",
    "# timeofday: daytime, dawn/dusk, night\n",
    "\n",
    "attributes_normal = [[\"weather\", [\"clear\",\"partly cloudy\", \"overcast\"]],[\"scene\", \"highway\"],[\"timeofday\", \"daytime\"]]\n",
    "attributes_outlier = [[\"weather\", [\"rainy\", \"snowy\", \"foggy\"]],[\"scene\", \"highway\"],[\"timeofday\",[\"daytime\",\"dawn/dusk\",\"night\"]]]\n",
    "\n",
    "# Configuration for both cells below\n",
    "image_height = 192\n",
    "image_width = 320\n",
    "channels = 3\n",
    "\n",
    "num_train = 5000\n",
    "num_val = 1000\n",
    "num_test = 2000\n",
    "outlier_frac = 0.5"
   ]
  },
  {
   "cell_type": "code",
   "execution_count": 2,
   "metadata": {},
   "outputs": [
    {
     "name": "stderr",
     "output_type": "stream",
     "text": [
      "/home/erik/anaconda3/lib/python3.6/site-packages/h5py/__init__.py:36: FutureWarning: Conversion of the second argument of issubdtype from `float` to `np.floating` is deprecated. In future, it will be treated as `np.float64 == np.dtype(float).type`.\n",
      "  from ._conv import register_converters as _register_converters\n"
     ]
    },
    {
     "name": "stdout",
     "output_type": "stream",
     "text": [
      "Loading json data ...\n",
      "Loaded json data (20.16s)\n",
      "Parsing json data...\n",
      "Parsing complete (0.10s)\n",
      "NORMAL filename list complete\n",
      "Parsing json data...\n",
      "Parsing complete (0.08s)\n",
      "OUTLIER filename list complete\n",
      "Checking for overlap between NORMAL and OUTLIER classes...\n",
      "Checking number of available vs requested images...\n",
      "Choosing which images to load...\n",
      "Initializing datasets...\n",
      "Loading NORMAL image data...\n",
      "NORMAL image data loaded (24.52s)\n",
      "Loading OUTLIER image data...\n",
      "OUTLIER image data loaded (3.26s)\n"
     ]
    }
   ],
   "source": [
    "# Choose images from json-file\n",
    "from loadbdd100k import load_bdd100k_data_attribute_spec\n",
    "\n",
    "# Test to get output as: normal and outlier data\n",
    "norm_data, out_data = load_bdd100k_data_attribute_spec(img_folder, attributes_normal, attributes_outlier, labels_file, num_train, num_val, num_test, outlier_frac, image_height, image_width, channels, save_name_lists=True, get_norm_and_out_sets = True, shuffle=False)"
   ]
  },
  {
   "cell_type": "code",
   "execution_count": 3,
   "metadata": {},
   "outputs": [
    {
     "name": "stdout",
     "output_type": "stream",
     "text": [
      "Checking for overlap between NORMAL and OUTLIER classes...\n",
      "Checking number of available vs requested images...\n",
      "Choosing which images to load...\n",
      "Initializing datasets...\n",
      "Loading NORMAL image data...\n",
      "NORMAL image data loaded (19.29s)\n",
      "Loading OUTLIER image data...\n",
      "OUTLIER image data loaded (2.74s)\n",
      "Generated train_data (0.00s)\n",
      "Generated val_data (0.00s)\n",
      "Generated test_data (0.12s)\n",
      "Generated test_labels (0.00s)\n"
     ]
    }
   ],
   "source": [
    "# Choose images from files with filenames \n",
    "from loadbdd100k import load_bdd100k_data_filename_list\n",
    "\n",
    "norm_file = 'clear_or_partly_cloudy_or_overcast_and_highway_and_daytime.txt'\n",
    "out_file = 'rainy_or_snowy_or_foggy_and_highway_and_daytime_or_dawndusk_or_night.txt'\n",
    "norm_filenames = [line.rstrip('\\n') for line in open(norm_file,'r')]\n",
    "out_filenames = [line.rstrip('\\n') for line in open(out_file,'r')]  \n",
    "    \n",
    "# Test to get output as train, val and test sets (with outliers only in test set)    \n",
    "train_data, val_data, test_data, test_labels = load_bdd100k_data_filename_list(img_folder, norm_filenames, out_filenames, num_train, num_val, num_test, outlier_frac, image_height, image_width, channels, get_norm_and_out_sets = False, shuffle=False)"
   ]
  },
  {
   "cell_type": "code",
   "execution_count": null,
   "metadata": {},
   "outputs": [],
   "source": [
    "# Rescale all images and store on disk\n",
    "# By default images are 1280by720\n",
    "\n",
    "from pathlib import Path\n",
    "import os\n",
    "from skimage.transform import rescale, resize, downscale_local_mean\n",
    "from skimage.io import imread, imsave\n",
    "\n",
    "# Change to your specific source and destination directory\n",
    "data_main_folder = Path('C:/Users/erikk/Dataset exjobb/BDD100K')\n",
    "img_folder = data_main_folder / \"bdd100k_images/bdd100k/images/100k/train_and_val\"\n",
    "resized_img_folder = data_main_folder / \"bdd100k_images/bdd100k/images/100k/train_and_val_192by320\"\n",
    "\n",
    "new_height = 192\n",
    "new_width = 320\n",
    "\n",
    "\n",
    "all_images = os.listdir(img_folder)\n",
    "already_resized = os.listdir(resized_img_folder)\n",
    "num_to_resize = len(all_images)-len(already_resized) # Make sure no files are copied into destination any other way, otherwise this doesn't work\n",
    "counter = 0\n",
    "\n",
    "if num_to_resize > 0:\n",
    "    print(\"Found %d images in source that are not also in destination. Resizing...\")\n",
    "    for img_name in all_images:\n",
    "        if img_name not in already_resized:\n",
    "            img = imread(img_folder / img_name)\n",
    "            resized_img = resize(img, (new_height,new_width),anti_aliasing = True)\n",
    "            imsave(resized_img_folder / img_name, resized_img)\n",
    "            counter += 1\n",
    "            if counter % (num_to_resize//100) == 0: # print every 1%\n",
    "                print(\"Resized %d of %d images (%d%%)\"%(counter,num_to_resize,100*counter/num_to_resize))\n",
    "    print(\"Complete!\")\n",
    "else:\n",
    "    print(\"All images already resized :)\")\n",
    "    "
   ]
  }
 ],
 "metadata": {
  "kernelspec": {
   "display_name": "Python 3",
   "language": "python",
   "name": "python3"
  },
  "language_info": {
   "codemirror_mode": {
    "name": "ipython",
    "version": 3
   },
   "file_extension": ".py",
   "mimetype": "text/x-python",
   "name": "python",
   "nbconvert_exporter": "python",
   "pygments_lexer": "ipython3",
   "version": "3.6.5"
  }
 },
 "nbformat": 4,
 "nbformat_minor": 2
}
